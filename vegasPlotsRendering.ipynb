{
 "cells": [
  {
   "cell_type": "code",
   "execution_count": 1,
   "metadata": {
    "collapsed": false
   },
   "outputs": [
    {
     "name": "stdout",
     "output_type": "stream",
     "text": [
      "Checking https://repo1.maven.org/maven2/org/webjars/bower/vega/maven-metadata.xml.sha1\n",
      "Checking https://repo1.maven.org/maven2/org/webjars/bower/vega/maven-metadata.xml\n",
      "Checked https://repo1.maven.org/maven2/org/webjars/bower/vega/maven-metadata.xml.sha1\n",
      "Checked https://repo1.maven.org/maven2/org/webjars/bower/vega/maven-metadata.xml\n",
      "Checking https://repo1.maven.org/maven2/org/webjars/bower/d3/maven-metadata.xml\n",
      "Checking https://repo1.maven.org/maven2/org/webjars/bower/d3/maven-metadata.xml.sha1\n",
      "Checked https://repo1.maven.org/maven2/org/webjars/bower/d3/maven-metadata.xml.sha1\n",
      "Checked https://repo1.maven.org/maven2/org/webjars/bower/d3/maven-metadata.xml\n"
     ]
    },
    {
     "data": {
      "text/html": [
       "\n",
       "  <iframe id=\"frame-vegas-186cd5d9-bfc7-4495-a92d-e122fb09963d\" sandbox=\"allow-scripts allow-same-origin\" style=\"border: none; width: 100%\" srcdoc=\"&lt;html&gt;\n",
       "  &lt;head&gt;\n",
       "    &lt;script src=&quot;http://cdn.jsdelivr.net/webjars/org.webjars.bower/d3/3.5.17/d3.min.js&quot; charset=&quot;utf-8&quot;&gt;&lt;/script&gt;\n",
       "&lt;script src=&quot;http://cdn.jsdelivr.net/webjars/org.webjars.bower/vega/2.6.3/vega.min.js&quot; charset=&quot;utf-8&quot;&gt;&lt;/script&gt;\n",
       "&lt;script src=&quot;http://cdn.jsdelivr.net/webjars/org.webjars.bower/vega-lite/1.2.0/vega-lite.min.js&quot; charset=&quot;utf-8&quot;&gt;&lt;/script&gt;\n",
       "&lt;script src=&quot;https://vega.github.io/vega-editor/vendor/vega-embed.js&quot; charset=&quot;utf-8&quot;&gt;&lt;/script&gt;\n",
       "  &lt;/head&gt;\n",
       "  &lt;body&gt;\n",
       " &lt;script&gt;\n",
       "   var embedSpec = {\n",
       "     mode: &quot;vega-lite&quot;,\n",
       "     spec: {\n",
       "  &quot;mark&quot; : &quot;bar&quot;,\n",
       "  &quot;encoding&quot; : {\n",
       "    &quot;x&quot; : {\n",
       "      &quot;field&quot; : &quot;country&quot;,\n",
       "      &quot;type&quot; : &quot;nominal&quot;\n",
       "    },\n",
       "    &quot;y&quot; : {\n",
       "      &quot;field&quot; : &quot;population&quot;,\n",
       "      &quot;type&quot; : &quot;quantitative&quot;\n",
       "    }\n",
       "  },\n",
       "  &quot;description&quot; : &quot;Country Pop&quot;,\n",
       "  &quot;data&quot; : {\n",
       "    &quot;values&quot; : [\n",
       "      {\n",
       "        &quot;country&quot; : &quot;USA&quot;,\n",
       "        &quot;population&quot; : 314\n",
       "      },\n",
       "      {\n",
       "        &quot;country&quot; : &quot;UK&quot;,\n",
       "        &quot;population&quot; : 64\n",
       "      },\n",
       "      {\n",
       "        &quot;country&quot; : &quot;DK&quot;,\n",
       "        &quot;population&quot; : 80\n",
       "      }\n",
       "    ]\n",
       "  }\n",
       "}\n",
       "   }\n",
       "   vg.embed(&quot;#vegas-186cd5d9-bfc7-4495-a92d-e122fb09963d&quot;, embedSpec, function(error, result) {});\n",
       " &lt;/script&gt;\n",
       " &lt;div id='vegas-186cd5d9-bfc7-4495-a92d-e122fb09963d'&gt;&lt;/div&gt;\n",
       "    &lt;/body&gt;\n",
       "&lt;/html&gt;\"></iframe>\n",
       "  <script>\n",
       "    if (typeof resizeIFrame != 'function') {\n",
       "      function resizeIFrame(el, k) {\n",
       "        $(el.contentWindow.document).ready(function() {\n",
       "          el.style.height = el.contentWindow.document.body.scrollHeight + 'px';\n",
       "        });\n",
       "        if (k <= 10) { setTimeout(function() { resizeIFrame(el, k+1) }, 1000 + (k * 250)) };\n",
       "      }\n",
       "    }\n",
       "    $().ready( function() { resizeIFrame($('#frame-vegas-186cd5d9-bfc7-4495-a92d-e122fb09963d').get(0), 1); });\n",
       "  </script>\n",
       "    "
      ]
     },
     "metadata": {},
     "output_type": "display_data"
    },
    {
     "data": {
      "text/plain": [
       "\u001b[32mimport \u001b[39m\u001b[36m$ivy.$                           \n",
       "\n",
       "\u001b[39m\n",
       "\u001b[32mimport \u001b[39m\u001b[36mvegas._\n",
       "\u001b[39m\n",
       "\u001b[32mimport \u001b[39m\u001b[36mvegas.render.HTMLRenderer._\n",
       "\n",
       "\u001b[39m\n",
       "\u001b[36mdisplayer\u001b[39m: \u001b[32mString\u001b[39m => \u001b[32mUnit\u001b[39m = <function1>"
      ]
     },
     "execution_count": 1,
     "metadata": {},
     "output_type": "execute_result"
    }
   ],
   "source": [
    "import $ivy.`org.vegas-viz::vegas:0.3.6`\n",
    "\n",
    "import vegas._\n",
    "import vegas.render.HTMLRenderer._\n",
    "\n",
    "implicit val displayer: String => Unit = publish.html(_)\n",
    "\n",
    "Vegas(\"Country Pop\").\n",
    "  withData(\n",
    "    Seq(\n",
    "      Map(\"country\" -> \"USA\", \"population\" -> 314),\n",
    "      Map(\"country\" -> \"UK\", \"population\" -> 64),\n",
    "      Map(\"country\" -> \"DK\", \"population\" -> 80)\n",
    "    )\n",
    "  ).\n",
    "  encodeX(\"country\", Nom).\n",
    "  encodeY(\"population\", Quant).\n",
    "  mark(Bar).\n",
    "  show"
   ]
  }
 ],
 "metadata": {
  "kernelspec": {
   "display_name": "Scala",
   "language": "scala",
   "name": "scala"
  },
  "language_info": {
   "codemirror_mode": "text/x-scala",
   "file_extension": ".scala",
   "mimetype": "text/x-scala",
   "name": "scala211",
   "nbconvert_exporter": "scala",
   "pygments_lexer": "scala",
   "version": "2.11.8"
  },
  "latex_envs": {
   "LaTeX_envs_menu_present": true,
   "bibliofile": "biblio.bib",
   "cite_by": "apalike",
   "current_citInitial": 1,
   "eqLabelWithNumbers": true,
   "eqNumInitial": 1,
   "labels_anchors": false,
   "latex_user_defs": false,
   "report_style_numbering": false,
   "user_envs_cfg": false
  }
 },
 "nbformat": 4,
 "nbformat_minor": 2
}
