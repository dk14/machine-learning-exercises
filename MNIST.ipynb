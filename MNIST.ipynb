{
 "cells": [
  {
   "cell_type": "code",
   "execution_count": 6,
   "metadata": {
    "collapsed": false,
    "deletable": true,
    "editable": true
   },
   "outputs": [
    {
     "data": {
      "text/plain": [
       "\u001b[32mimport \u001b[39m\u001b[36m$ivy.$                                             \n",
       "\u001b[39m\n",
       "\u001b[32mimport \u001b[39m\u001b[36m$ivy.$                                    \n",
       "\n",
       "\u001b[39m\n",
       "\u001b[32mimport \u001b[39m\u001b[36morg.nd4j.linalg.activations.Activation\n",
       "\u001b[39m\n",
       "\u001b[32mimport \u001b[39m\u001b[36morg.nd4j.linalg.dataset.api.iterator.DataSetIterator\n",
       "\u001b[39m\n",
       "\u001b[32mimport \u001b[39m\u001b[36morg.deeplearning4j.datasets.iterator.impl.MnistDataSetIterator\n",
       "\u001b[39m\n",
       "\u001b[32mimport \u001b[39m\u001b[36morg.deeplearning4j.eval.Evaluation\n",
       "\u001b[39m\n",
       "\u001b[32mimport \u001b[39m\u001b[36morg.deeplearning4j.nn.api.OptimizationAlgorithm\n",
       "\u001b[39m\n",
       "\u001b[32mimport \u001b[39m\u001b[36morg.deeplearning4j.nn.conf.MultiLayerConfiguration\n",
       "\u001b[39m\n",
       "\u001b[32mimport \u001b[39m\u001b[36morg.deeplearning4j.nn.conf.NeuralNetConfiguration\n",
       "\u001b[39m\n",
       "\u001b[32mimport \u001b[39m\u001b[36morg.deeplearning4j.nn.conf.Updater\n",
       "\u001b[39m\n",
       "\u001b[32mimport \u001b[39m\u001b[36morg.deeplearning4j.nn.conf.layers.DenseLayer\n",
       "\u001b[39m\n",
       "\u001b[32mimport \u001b[39m\u001b[36morg.deeplearning4j.nn.conf.layers.OutputLayer\n",
       "\u001b[39m\n",
       "\u001b[32mimport \u001b[39m\u001b[36morg.deeplearning4j.nn.multilayer.MultiLayerNetwork\n",
       "\u001b[39m\n",
       "\u001b[32mimport \u001b[39m\u001b[36morg.deeplearning4j.nn.weights.WeightInit\n",
       "\u001b[39m\n",
       "\u001b[32mimport \u001b[39m\u001b[36morg.deeplearning4j.optimize.listeners.ScoreIterationListener\n",
       "\u001b[39m\n",
       "\u001b[32mimport \u001b[39m\u001b[36morg.nd4j.linalg.api.ndarray.INDArray\n",
       "\u001b[39m\n",
       "\u001b[32mimport \u001b[39m\u001b[36morg.nd4j.linalg.dataset.DataSet\n",
       "\u001b[39m\n",
       "\u001b[32mimport \u001b[39m\u001b[36morg.nd4j.linalg.lossfunctions.LossFunctions.LossFunction\n",
       "\u001b[39m\n",
       "\u001b[32mimport \u001b[39m\u001b[36morg.slf4j.Logger\n",
       "\u001b[39m\n",
       "\u001b[32mimport \u001b[39m\u001b[36morg.slf4j.LoggerFactory\u001b[39m"
      ]
     },
     "execution_count": 6,
     "metadata": {},
     "output_type": "execute_result"
    }
   ],
   "source": [
    "import $ivy.`org.deeplearning4j:deeplearning4j-core:0.7.2`\n",
    "import $ivy.`org.nd4j:nd4j-native-platform:0.7.2`\n",
    "\n",
    "import org.nd4j.linalg.activations.Activation\n",
    "import org.nd4j.linalg.dataset.api.iterator.DataSetIterator\n",
    "import org.deeplearning4j.datasets.iterator.impl.MnistDataSetIterator\n",
    "import org.deeplearning4j.eval.Evaluation\n",
    "import org.deeplearning4j.nn.api.OptimizationAlgorithm\n",
    "import org.deeplearning4j.nn.conf.MultiLayerConfiguration\n",
    "import org.deeplearning4j.nn.conf.NeuralNetConfiguration\n",
    "import org.deeplearning4j.nn.conf.Updater\n",
    "import org.deeplearning4j.nn.conf.layers.DenseLayer\n",
    "import org.deeplearning4j.nn.conf.layers.OutputLayer\n",
    "import org.deeplearning4j.nn.multilayer.MultiLayerNetwork\n",
    "import org.deeplearning4j.nn.weights.WeightInit\n",
    "import org.deeplearning4j.optimize.listeners.ScoreIterationListener\n",
    "import org.nd4j.linalg.api.ndarray.INDArray\n",
    "import org.nd4j.linalg.dataset.DataSet\n",
    "import org.nd4j.linalg.lossfunctions.LossFunctions.LossFunction\n",
    "import org.slf4j.Logger\n",
    "import org.slf4j.LoggerFactory"
   ]
  },
  {
   "cell_type": "code",
   "execution_count": 2,
   "metadata": {
    "collapsed": false,
    "deletable": true,
    "editable": true
   },
   "outputs": [
    {
     "name": "stderr",
     "output_type": "stream",
     "text": [
      "SLF4J: Failed to load class \"org.slf4j.impl.StaticLoggerBinder\".\n",
      "SLF4J: Defaulting to no-operation (NOP) logger implementation\n",
      "SLF4J: See http://www.slf4j.org/codes.html#StaticLoggerBinder for further details.\n"
     ]
    },
    {
     "name": "stdout",
     "output_type": "stream",
     "text": [
      "\n",
      "\n"
     ]
    },
    {
     "data": {
      "text/plain": [
       "\u001b[36mnumRows\u001b[39m: \u001b[32mInt\u001b[39m = \u001b[32m28\u001b[39m\n",
       "\u001b[36mnumColumns\u001b[39m: \u001b[32mInt\u001b[39m = \u001b[32m28\u001b[39m\n",
       "\u001b[36moutputNum\u001b[39m: \u001b[32mInt\u001b[39m = \u001b[32m10\u001b[39m\n",
       "\u001b[36mbatchSize\u001b[39m: \u001b[32mInt\u001b[39m = \u001b[32m64\u001b[39m\n",
       "\u001b[36mrngSeed\u001b[39m: \u001b[32mInt\u001b[39m = \u001b[32m123\u001b[39m\n",
       "\u001b[36mnumEpochs\u001b[39m: \u001b[32mInt\u001b[39m = \u001b[32m15\u001b[39m\n",
       "\u001b[36mrate\u001b[39m: \u001b[32mDouble\u001b[39m = \u001b[32m0.0015\u001b[39m\n",
       "\u001b[36mmnistTrain\u001b[39m: \u001b[32mMnistDataSetIterator\u001b[39m = org.deeplearning4j.datasets.iterator.impl.MnistDataSetIterator@6328fce2\n",
       "\u001b[36mmnistTest\u001b[39m: \u001b[32mMnistDataSetIterator\u001b[39m = org.deeplearning4j.datasets.iterator.impl.MnistDataSetIterator@69fa20b6"
      ]
     },
     "execution_count": 2,
     "metadata": {},
     "output_type": "execute_result"
    }
   ],
   "source": [
    " //number of rows and columns in the input pictures\n",
    "val numRows = 28;\n",
    "val numColumns = 28;\n",
    "val outputNum = 10; // number of output classes\n",
    "val batchSize = 64; // batch size for each epoch\n",
    "val rngSeed = 123; // random number seed for reproducibility\n",
    "val numEpochs = 15; // number of epochs to perform\n",
    "val rate = 0.0015; // learning rate\n",
    "\n",
    "        //Get the DataSetIterators:\n",
    "val mnistTrain = new MnistDataSetIterator(batchSize, true, rngSeed);\n",
    "val mnistTest = new MnistDataSetIterator(batchSize, false, rngSeed);"
   ]
  },
  {
   "cell_type": "markdown",
   "metadata": {},
   "source": [
    "Create MLP model:"
   ]
  },
  {
   "cell_type": "code",
   "execution_count": 3,
   "metadata": {
    "collapsed": false
   },
   "outputs": [
    {
     "data": {
      "text/plain": [
       "\u001b[36mbuilder\u001b[39m: \u001b[32mNeuralNetConfiguration\u001b[39m.\u001b[32mBuilder\u001b[39m = NeuralNetConfiguration.Builder(activationFn=relu, weightInit=XAVIER, biasInit=0.0, dist=null, learningRate=0.0015, biasLearningRate=NaN, learningRateSchedule=null, lrScoreBasedDecay=0.0, l1=NaN, l2=7.5E-6, dropOut=0.0, updater=NESTEROVS, momentum=0.98, momentumSchedule=null, epsilon=NaN, rho=NaN, rmsDecay=NaN, adamMeanDecay=NaN, adamVarDecay=NaN, layer=null, leakyreluAlpha=0.01, miniBatch=true, numIterations=1, maxNumLineSearchIterations=5, seed=123, useRegularization=true, optimizationAlgo=STOCHASTIC_GRADIENT_DESCENT, stepFunction=null, useDropConnect=false, minimize=true, gradientNormalization=None, gradientNormalizationThreshold=1.0, learningRatePolicy=None, lrPolicyDecayRate=NaN, lrPolicySteps=NaN, lrPolicyPower=NaN, pretrain=false, convolutionMode=Truncate)\n",
       "\u001b[36mres2_1\u001b[39m: \u001b[32mNeuralNetConfiguration\u001b[39m.\u001b[32mBuilder\u001b[39m = NeuralNetConfiguration.Builder(activationFn=relu, weightInit=XAVIER, biasInit=0.0, dist=null, learningRate=0.0015, biasLearningRate=NaN, learningRateSchedule=null, lrScoreBasedDecay=0.0, l1=NaN, l2=7.5E-6, dropOut=0.0, updater=NESTEROVS, momentum=0.98, momentumSchedule=null, epsilon=NaN, rho=NaN, rmsDecay=NaN, adamMeanDecay=NaN, adamVarDecay=NaN, layer=null, leakyreluAlpha=0.01, miniBatch=true, numIterations=1, maxNumLineSearchIterations=5, seed=123, useRegularization=true, optimizationAlgo=STOCHASTIC_GRADIENT_DESCENT, stepFunction=null, useDropConnect=false, minimize=true, gradientNormalization=None, gradientNormalizationThreshold=1.0, learningRatePolicy=None, lrPolicyDecayRate=NaN, lrPolicySteps=NaN, lrPolicyPower=NaN, pretrain=false, convolutionMode=Truncate)\n",
       "\u001b[36mlstBuilder\u001b[39m: \u001b[32mNeuralNetConfiguration\u001b[39m.\u001b[32mListBuilder\u001b[39m = MultiLayerConfiguration.Builder(confs=[], dampingFactor=100.0, inputPreProcessors={}, pretrain=false, backprop=true, backpropType=Standard, tbpttFwdLength=20, tbpttBackLength=20, inputType=null, cnnInputSize=null)\n",
       "\u001b[36mres2_3\u001b[39m: \u001b[32mNeuralNetConfiguration\u001b[39m.\u001b[32mListBuilder\u001b[39m = MultiLayerConfiguration.Builder(confs=[], dampingFactor=100.0, inputPreProcessors={}, pretrain=false, backprop=true, backpropType=Standard, tbpttFwdLength=20, tbpttBackLength=20, inputType=null, cnnInputSize=null)\n",
       "\u001b[36mres2_4\u001b[39m: \u001b[32mNeuralNetConfiguration\u001b[39m.\u001b[32mListBuilder\u001b[39m = MultiLayerConfiguration.Builder(confs=[], dampingFactor=100.0, inputPreProcessors={}, pretrain=false, backprop=true, backpropType=Standard, tbpttFwdLength=20, tbpttBackLength=20, inputType=null, cnnInputSize=null)\n",
       "\u001b[36mres2_5\u001b[39m: \u001b[32mNeuralNetConfiguration\u001b[39m.\u001b[32mListBuilder\u001b[39m = MultiLayerConfiguration.Builder(confs=[], dampingFactor=100.0, inputPreProcessors={}, pretrain=false, backprop=true, backpropType=Standard, tbpttFwdLength=20, tbpttBackLength=20, inputType=null, cnnInputSize=null)\n",
       "\u001b[36mres2_6\u001b[39m: \u001b[32mNeuralNetConfiguration\u001b[39m.\u001b[32mListBuilder\u001b[39m = MultiLayerConfiguration.Builder(confs=[], dampingFactor=100.0, inputPreProcessors={}, pretrain=false, backprop=true, backpropType=Standard, tbpttFwdLength=20, tbpttBackLength=20, inputType=null, cnnInputSize=null)\n",
       "\u001b[36mres2_7\u001b[39m: \u001b[32mNeuralNetConfiguration\u001b[39m.\u001b[32mListBuilder\u001b[39m = MultiLayerConfiguration.Builder(confs=[], dampingFactor=100.0, inputPreProcessors={}, pretrain=false, backprop=true, backpropType=Standard, tbpttFwdLength=20, tbpttBackLength=20, inputType=null, cnnInputSize=null)\n",
       "\u001b[36mconf\u001b[39m: \u001b[32mMultiLayerConfiguration\u001b[39m = {\n",
       "  \"backprop\" : true,\n",
       "  \"backpropType\" : \"Standard\",\n",
       "  \"confs\" : [ {\n",
       "    \"iterationCount\" : 0,\n",
       "    \"l1ByParam\" : {\n",
       "      \"b\" : 0.0,\n",
       "      \"W\" : 0.0\n",
       "    },\n",
       "    \"l2ByParam\" : {\n",
       "      \"b\" : 0.0,\n",
       "      \"W\" : 7.5E-6\n",
       "\u001b[33m...\u001b[39m\n",
       "\u001b[36mmodel\u001b[39m: \u001b[32mMultiLayerNetwork\u001b[39m = org.deeplearning4j.nn.multilayer.MultiLayerNetwork@4829e0b4"
      ]
     },
     "execution_count": 3,
     "metadata": {},
     "output_type": "execute_result"
    }
   ],
   "source": [
    "val builder = new NeuralNetConfiguration.Builder()\n",
    "\n",
    "builder\n",
    "  .seed(rngSeed) //include a random seed for reproducibility\n",
    "  .optimizationAlgo(OptimizationAlgorithm.STOCHASTIC_GRADIENT_DESCENT) // use stochastic gradient descent as an optimization algorithm\n",
    "  .iterations(1)\n",
    "  .activation(Activation.RELU)\n",
    "  .weightInit(WeightInit.XAVIER)\n",
    "  .learningRate(rate) //specify the learning rate\n",
    "  .updater(Updater.NESTEROVS).momentum(0.98) //specify the rate of change of the learning rate.\n",
    "  .regularization(true).l2(rate * 0.005) // regularize learning model\n",
    "\n",
    "val lstBuilder = builder.list()\n",
    "\n",
    "lstBuilder.layer(0, new DenseLayer.Builder().nIn(numRows * numColumns).nOut(500).build())\n",
    "lstBuilder.layer(1, new DenseLayer.Builder().nIn(500).nOut(100).build())\n",
    "lstBuilder.layer(2, new OutputLayer.Builder(LossFunction.NEGATIVELOGLIKELIHOOD) \n",
    "                    .activation(Activation.SOFTMAX)\n",
    "                    .nIn(100)\n",
    "                    .nOut(outputNum)\n",
    "                    .build())\n",
    "\n",
    "lstBuilder.pretrain(false)\n",
    "lstBuilder.backprop(true)\n",
    "\n",
    "val conf = lstBuilder.build()\n",
    "\n",
    "val model = new MultiLayerNetwork(conf)\n",
    "model.init()\n",
    "model.setListeners(new ScoreIterationListener(5))  //print the score with every iteration"
   ]
  },
  {
   "cell_type": "markdown",
   "metadata": {},
   "source": [
    "Train model:"
   ]
  },
  {
   "cell_type": "code",
   "execution_count": 4,
   "metadata": {
    "collapsed": false
   },
   "outputs": [
    {
     "name": "stdout",
     "output_type": "stream",
     "text": [
      "Train model....\n",
      "Epoch 0\n",
      "Epoch 1\n",
      "Epoch 2\n",
      "Epoch 3\n",
      "Epoch 4\n",
      "Epoch 5\n",
      "Epoch 6\n",
      "Epoch 7\n",
      "Epoch 8\n",
      "Epoch 9\n",
      "Epoch 10\n",
      "Epoch 11\n",
      "Epoch 12\n",
      "Epoch 13\n",
      "Epoch 14\n",
      "Epoch 15\n"
     ]
    }
   ],
   "source": [
    "println(\"Train model....\");\n",
    "(0 to numEpochs).foreach{i =>\n",
    "  println(\"Epoch \" + i)\n",
    "  model.fit(mnistTrain)\n",
    "}"
   ]
  },
  {
   "cell_type": "markdown",
   "metadata": {},
   "source": [
    "Evaluate model:"
   ]
  },
  {
   "cell_type": "code",
   "execution_count": 5,
   "metadata": {
    "collapsed": false
   },
   "outputs": [
    {
     "name": "stdout",
     "output_type": "stream",
     "text": [
      "\n",
      "Examples labeled as 0 classified by model as 0: 971 times\n",
      "Examples labeled as 0 classified by model as 2: 1 times\n",
      "Examples labeled as 0 classified by model as 3: 1 times\n",
      "Examples labeled as 0 classified by model as 6: 1 times\n",
      "Examples labeled as 0 classified by model as 7: 1 times\n",
      "Examples labeled as 0 classified by model as 8: 4 times\n",
      "Examples labeled as 0 classified by model as 9: 1 times\n",
      "Examples labeled as 1 classified by model as 1: 1128 times\n",
      "Examples labeled as 1 classified by model as 2: 2 times\n",
      "Examples labeled as 1 classified by model as 3: 1 times\n",
      "Examples labeled as 1 classified by model as 5: 1 times\n",
      "Examples labeled as 1 classified by model as 6: 2 times\n",
      "Examples labeled as 1 classified by model as 8: 1 times\n",
      "Examples labeled as 2 classified by model as 0: 2 times\n",
      "Examples labeled as 2 classified by model as 1: 2 times\n",
      "Examples labeled as 2 classified by model as 2: 1015 times\n",
      "Examples labeled as 2 classified by model as 3: 1 times\n",
      "Examples labeled as 2 classified by model as 4: 3 times\n",
      "Examples labeled as 2 classified by model as 6: 3 times\n",
      "Examples labeled as 2 classified by model as 7: 2 times\n",
      "Examples labeled as 2 classified by model as 8: 4 times\n",
      "Examples labeled as 3 classified by model as 0: 1 times\n",
      "Examples labeled as 3 classified by model as 2: 4 times\n",
      "Examples labeled as 3 classified by model as 3: 990 times\n",
      "Examples labeled as 3 classified by model as 5: 3 times\n",
      "Examples labeled as 3 classified by model as 7: 4 times\n",
      "Examples labeled as 3 classified by model as 8: 3 times\n",
      "Examples labeled as 3 classified by model as 9: 5 times\n",
      "Examples labeled as 4 classified by model as 2: 3 times\n",
      "Examples labeled as 4 classified by model as 4: 968 times\n",
      "Examples labeled as 4 classified by model as 5: 1 times\n",
      "Examples labeled as 4 classified by model as 6: 2 times\n",
      "Examples labeled as 4 classified by model as 9: 8 times\n",
      "Examples labeled as 5 classified by model as 0: 2 times\n",
      "Examples labeled as 5 classified by model as 3: 5 times\n",
      "Examples labeled as 5 classified by model as 4: 2 times\n",
      "Examples labeled as 5 classified by model as 5: 875 times\n",
      "Examples labeled as 5 classified by model as 6: 4 times\n",
      "Examples labeled as 5 classified by model as 7: 1 times\n",
      "Examples labeled as 5 classified by model as 8: 2 times\n",
      "Examples labeled as 5 classified by model as 9: 1 times\n",
      "Examples labeled as 6 classified by model as 0: 3 times\n",
      "Examples labeled as 6 classified by model as 1: 3 times\n",
      "Examples labeled as 6 classified by model as 2: 2 times\n",
      "Examples labeled as 6 classified by model as 3: 1 times\n",
      "Examples labeled as 6 classified by model as 4: 9 times\n",
      "Examples labeled as 6 classified by model as 5: 4 times\n",
      "Examples labeled as 6 classified by model as 6: 936 times\n",
      "Examples labeled as 7 classified by model as 0: 1 times\n",
      "Examples labeled as 7 classified by model as 1: 6 times\n",
      "Examples labeled as 7 classified by model as 2: 7 times\n",
      "Examples labeled as 7 classified by model as 3: 1 times\n",
      "Examples labeled as 7 classified by model as 4: 3 times\n",
      "Examples labeled as 7 classified by model as 7: 1000 times\n",
      "Examples labeled as 7 classified by model as 8: 6 times\n",
      "Examples labeled as 7 classified by model as 9: 4 times\n",
      "Examples labeled as 8 classified by model as 0: 4 times\n",
      "Examples labeled as 8 classified by model as 2: 4 times\n",
      "Examples labeled as 8 classified by model as 3: 3 times\n",
      "Examples labeled as 8 classified by model as 4: 3 times\n",
      "Examples labeled as 8 classified by model as 5: 5 times\n",
      "Examples labeled as 8 classified by model as 6: 2 times\n",
      "Examples labeled as 8 classified by model as 7: 3 times\n",
      "Examples labeled as 8 classified by model as 8: 948 times\n",
      "Examples labeled as 8 classified by model as 9: 2 times\n",
      "Examples labeled as 9 classified by model as 0: 3 times\n",
      "Examples labeled as 9 classified by model as 1: 2 times\n",
      "Examples labeled as 9 classified by model as 3: 8 times\n",
      "Examples labeled as 9 classified by model as 4: 10 times\n",
      "Examples labeled as 9 classified by model as 5: 4 times\n",
      "Examples labeled as 9 classified by model as 7: 3 times\n",
      "Examples labeled as 9 classified by model as 9: 979 times\n",
      "\n",
      "\n",
      "==========================Scores========================================\n",
      " Accuracy:        0.981\n",
      " Precision:       0.9809\n",
      " Recall:          0.9808\n",
      " F1 Score:        0.9809\n",
      "========================================================================\n",
      "****************Example finished********************\n"
     ]
    },
    {
     "data": {
      "text/plain": [
       "\u001b[36meval\u001b[39m: \u001b[32mEvaluation\u001b[39m = org.deeplearning4j.eval.Evaluation@6c85a02d"
      ]
     },
     "execution_count": 5,
     "metadata": {},
     "output_type": "execute_result"
    }
   ],
   "source": [
    "val eval = new Evaluation(outputNum) //create an evaluation object with 10 possible classes\n",
    "\n",
    "while(mnistTest.hasNext()){\n",
    "  val next = mnistTest.next()\n",
    "  val output = model.output(next.getFeatureMatrix()) //get the networks prediction\n",
    "  eval.eval(next.getLabels(), output) //check the prediction against the true class\n",
    "}\n",
    "\n",
    "println(eval.stats());\n",
    "println(\"****************Example finished********************\");"
   ]
  },
  {
   "cell_type": "code",
   "execution_count": null,
   "metadata": {
    "collapsed": true
   },
   "outputs": [],
   "source": []
  }
 ],
 "metadata": {
  "kernelspec": {
   "display_name": "Scala",
   "language": "scala",
   "name": "scala"
  },
  "language_info": {
   "codemirror_mode": "text/x-scala",
   "file_extension": ".scala",
   "mimetype": "text/x-scala",
   "name": "scala211",
   "nbconvert_exporter": "scala",
   "pygments_lexer": "scala",
   "version": "2.11.8"
  },
  "latex_envs": {
   "LaTeX_envs_menu_present": true,
   "bibliofile": "biblio.bib",
   "cite_by": "apalike",
   "current_citInitial": 1,
   "eqLabelWithNumbers": true,
   "eqNumInitial": 1,
   "labels_anchors": false,
   "latex_user_defs": false,
   "report_style_numbering": false,
   "user_envs_cfg": false
  }
 },
 "nbformat": 4,
 "nbformat_minor": 2
}
